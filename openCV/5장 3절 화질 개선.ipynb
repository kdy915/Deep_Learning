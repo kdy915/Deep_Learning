{
 "cells": [
  {
   "cell_type": "markdown",
   "id": "b3394f64",
   "metadata": {},
   "source": [
    "### 화질 개선"
   ]
  },
  {
   "cell_type": "markdown",
   "id": "dc40ff09",
   "metadata": {},
   "source": [
    "#### 히스토그램 밝기 조절"
   ]
  },
  {
   "cell_type": "code",
   "execution_count": 3,
   "id": "ad0f9e79",
   "metadata": {},
   "outputs": [],
   "source": [
    "import numpy as np\n",
    "import cv2\n",
    "\n",
    "def brightness(img, threshold=0):\n",
    "    height, width = img.shape\n",
    "    img_ = np.zeros(img.shape, dtype=np.uint8)\n",
    "\n",
    "    for y in range(height):\n",
    "        for x in range(width):\n",
    "            temp = img[y][x] + threshold;\n",
    "            if (temp > 255):\n",
    "                img_[y][x] = 255\n",
    "            elif(temp < 0):\n",
    "                img_[y][x] = 0\n",
    "            else:\n",
    "                img_[y][x] = temp\n",
    "    return img_"
   ]
  },
  {
   "cell_type": "code",
   "execution_count": 4,
   "id": "ac2d02e0",
   "metadata": {},
   "outputs": [],
   "source": [
    "img = cv2.imread(\"images/couple256.jpg\", cv2.IMREAD_GRAYSCALE)\n",
    "img2 = brightness(img, threshold=100)\n",
    "cv2.imshow(\"Image\", np.c_[img, img2])\n",
    "cv2.waitKey()\n",
    "cv2.destroyAllWindows()"
   ]
  },
  {
   "cell_type": "code",
   "execution_count": 6,
   "id": "c753fc5b",
   "metadata": {},
   "outputs": [],
   "source": [
    "def histogram(img):\n",
    "    height, width = img.shape\n",
    "    hist = np.zeros(256)\n",
    "    for y in range(height):\n",
    "        for x in range(width):\n",
    "            hist[img[y,x]] = hist[img[y,x]] + 1\n",
    "    return hist"
   ]
  },
  {
   "cell_type": "code",
   "execution_count": 7,
   "id": "b9d03bff",
   "metadata": {},
   "outputs": [
    {
     "data": {
      "text/plain": [
       "(0.0, 256.0)"
      ]
     },
     "execution_count": 7,
     "metadata": {},
     "output_type": "execute_result"
    },
    {
     "data": {
      "image/png": "[encoded data removed]",
      "text/plain": [
       "<Figure size 432x288 with 1 Axes>"
      ]
     },
     "metadata": {
      "needs_background": "light"
     },
     "output_type": "display_data"
    }
   ],
   "source": [
    "import matplotlib.pyplot as plt\n",
    "\n",
    "img2 = brightness(img, threshold=100)\n",
    "plt.bar(x=list(range(256)), height=histogram(img2), width=1)\n",
    "plt.xlim([0,256])"
   ]
  },
  {
   "cell_type": "markdown",
   "id": "987ea57b",
   "metadata": {},
   "source": [
    "### 콘트라스트 강조"
   ]
  },
  {
   "cell_type": "code",
   "execution_count": 10,
   "id": "58f207cb",
   "metadata": {},
   "outputs": [],
   "source": [
    "import numpy as np\n",
    "\n",
    "def contrast(img, low=0, high=255):\n",
    "    height, width = img.shape\n",
    "    img_ = np.zeros(img.shape, dtype=np.uint8)\n",
    "\n",
    "    for y in range(height):\n",
    "        for x in range(width):\n",
    "            temp = (int)((255/(high-low)) * (img[y][x]-low))\n",
    "            if (temp > 255):\n",
    "                img_[y][x] = 255\n",
    "            elif(temp < 0):\n",
    "                img_[y][x] = 0\n",
    "            else:\n",
    "                img_[y][x] = temp\n",
    "    return img_"
   ]
  },
  {
   "cell_type": "code",
   "execution_count": 11,
   "id": "ef472aec",
   "metadata": {},
   "outputs": [],
   "source": [
    "img = cv2.imread(\"images/couple256.jpg\", cv2.IMREAD_GRAYSCALE)\n",
    "img2 = contrast(img, 0, 160)\n",
    "cv2.imshow(\"Image\", np.c_[img, img2])\n",
    "cv2.waitKey()\n",
    "cv2.destroyAllWindows()"
   ]
  },
  {
   "cell_type": "code",
   "execution_count": 12,
   "id": "38603c3b",
   "metadata": {},
   "outputs": [
    {
     "data": {
      "image/png": "[encoded data removed]",
      "text/plain": [
       "<Figure size 432x576 with 2 Axes>"
      ]
     },
     "metadata": {
      "needs_background": "light"
     },
     "output_type": "display_data"
    }
   ],
   "source": [
    "import matplotlib.pyplot as plt\n",
    "import cv2\n",
    "\n",
    "img = cv2.imread(\"images/couple256.jpg\", cv2.IMREAD_GRAYSCALE)\n",
    "img2 = contrast(img, 0, 160)\n",
    "\n",
    "plt.figure(figsize=(6,8))\n",
    "plt.subplot(211)\n",
    "plt.bar(x=range(256), height=histogram(img), width=1)\n",
    "plt.title(\"Input\")\n",
    "\n",
    "plt.subplot(212)\n",
    "plt.bar(x=range(256), height=histogram(img2), width=1)\n",
    "plt.title(\"Contrast up\")\n",
    "plt.show()"
   ]
  },
  {
   "cell_type": "code",
   "execution_count": 13,
   "id": "f641cf82",
   "metadata": {},
   "outputs": [],
   "source": [
    "import cv2\n",
    "\n",
    "img = cv2.imread(\"images/couple256.jpg\", cv2.IMREAD_GRAYSCALE)\n",
    "height, width = img.shape\n",
    "for y in range(height):\n",
    "    for x in range(width):\n",
    "        if img[y,x] > 160:\n",
    "            img[y,x] = 160\n",
    "\n",
    "img2 = cv2.normalize(img, None, 0, 255, cv2.NORM_MINMAX)\n",
    "cv2.imshow(\"Image\", np.c_[img, img2])\n",
    "cv2.waitKey()\n",
    "cv2.destroyAllWindows()"
   ]
  },
  {
   "cell_type": "markdown",
   "id": "84a71c41",
   "metadata": {},
   "source": [
    "### 이퀄라이제이션"
   ]
  },
  {
   "cell_type": "markdown",
   "id": "9d1a11e5",
   "metadata": {},
   "source": [
    "#### 함수로 구현"
   ]
  },
  {
   "cell_type": "code",
   "execution_count": 15,
   "id": "3cdc021d",
   "metadata": {},
   "outputs": [],
   "source": [
    "import numpy as np\n",
    "\n",
    "def equalization(img):\n",
    "    height, width = img.shape\n",
    "    img_in = img.copy()\n",
    "    img_out = np.zeros(img_in.shape, dtype=np.uint8)\n",
    "    histogram = np.zeros(256, dtype=int)\n",
    "    sum_histo = np.zeros(256, dtype=int)\n",
    "\n",
    "    for y in range(height):\n",
    "        for x in range(width):\n",
    "            histogram[img_in[y,x]] = histogram[img_in[y,x]] + 1\n",
    "\n",
    "    sum = 0\n",
    "    scale_factor = 255 / (width * height)\n",
    "    for i in range(256):\n",
    "        sum = sum + histogram[i]\n",
    "        sum_histo[i] = np.ceil(sum*scale_factor)\n",
    "\n",
    "    for y in range(height):\n",
    "        for x in range(width):\n",
    "            img_out[y,x] = sum_histo[img_in[y][x]]\n",
    "\n",
    "    return img_out"
   ]
  },
  {
   "cell_type": "code",
   "execution_count": 22,
   "id": "d2b35b62",
   "metadata": {},
   "outputs": [],
   "source": [
    "import numpy as np\n",
    "\n",
    "def scale_nearest(img, scale_x=1, scale_y=1):\n",
    "    height, width = img.shape\n",
    "    img_=np.zeros((int(height*scale_y), int(width*scale_x)),\n",
    "                 dtype=np.uint8)\n",
    "    for y in range(int(height*scale_y)):\n",
    "        for x in range(int(width*scale_x)):\n",
    "            try:\n",
    "                img_[y,x] = img[round(y/scale_y), round(x/scale_x)]\n",
    "            except:\n",
    "                pass\n",
    "    return img_"
   ]
  },
  {
   "cell_type": "code",
   "execution_count": 23,
   "id": "eea95e6b",
   "metadata": {},
   "outputs": [],
   "source": [
    "import cv2\n",
    "\n",
    "img = cv2.imread(\"images/couple256.jpg\", cv2.IMREAD_GRAYSCALE)\n",
    "img2 = equalization(img)\n",
    "cv2.imshow(\"Image\", np.c_[img, img2])\n",
    "cv2.waitKey()\n",
    "cv2.destroyAllWindows()"
   ]
  },
  {
   "cell_type": "code",
   "execution_count": 17,
   "id": "7a559cad",
   "metadata": {},
   "outputs": [
    {
     "data": {
      "image/png": "[encoded data removed]",
      "text/plain": [
       "<Figure size 864x252 with 2 Axes>"
      ]
     },
     "metadata": {
      "needs_background": "light"
     },
     "output_type": "display_data"
    }
   ],
   "source": [
    "import matplotlib.pyplot as plt\n",
    "import cv2\n",
    "\n",
    "img = cv2.imread(\"images/couple256.jpg\", cv2.IMREAD_GRAYSCALE)\n",
    "img2 = equalization(img)\n",
    "\n",
    "plt.figure(figsize=(12,3.5))\n",
    "plt.subplot(121)\n",
    "plt.bar(x=range(256), height=histogram(img), width=1)\n",
    "plt.title(\"Input\")\n",
    "plt.subplot(122)\n",
    "plt.bar(x=range(256), height=histogram(img2), width=1)\n",
    "plt.title(\"Equalization\")\n",
    "plt.show()"
   ]
  },
  {
   "cell_type": "markdown",
   "id": "6bd5b8f2",
   "metadata": {},
   "source": [
    "#### equalizeHist 사용"
   ]
  },
  {
   "cell_type": "code",
   "execution_count": 24,
   "id": "14600370",
   "metadata": {},
   "outputs": [],
   "source": [
    "import cv2\n",
    "\n",
    "img = cv2.imread(\"images/couple256.jpg\", cv2.IMREAD_GRAYSCALE)\n",
    "\n",
    "img2 = cv2.equalizeHist(img)\n",
    "\n",
    "cv2.imshow(\"Image\", np.c_[img, img2])\n",
    "cv2.waitKey()\n",
    "cv2.destroyAllWindows()"
   ]
  },
  {
   "cell_type": "code",
   "execution_count": 25,
   "id": "df4f4972",
   "metadata": {},
   "outputs": [
    {
     "data": {
      "image/png": "[encoded data removed]",
      "text/plain": [
       "<Figure size 432x288 with 2 Axes>"
      ]
     },
     "metadata": {
      "needs_background": "light"
     },
     "output_type": "display_data"
    }
   ],
   "source": [
    "import cv2\n",
    "import matplotlib.pyplot as plt\n",
    "import numpy as np\n",
    "\n",
    "img = cv2.imread(\"images/couple256.jpg\", cv2.IMREAD_GRAYSCALE)\n",
    "img2 = cv2.equalizeHist(img)\n",
    "\n",
    "hist = histogram(img2)\n",
    "\n",
    "cumsum_hist = np.cumsum(hist)\n",
    "sum_hist = np.sum(hist)\n",
    "plt.bar(range(256), hist, width=1)\n",
    "ax = plt.twinx()\n",
    "ax.plot(range(256), cumsum_hist/sum_hist, 'r')\n",
    "plt.show()"
   ]
  },
  {
   "cell_type": "markdown",
   "id": "ed02f9e1",
   "metadata": {},
   "source": [
    "#### 적응적 히스토그램 이퀄라이제이션"
   ]
  },
  {
   "cell_type": "code",
   "execution_count": 26,
   "id": "0fd91a51",
   "metadata": {},
   "outputs": [],
   "source": [
    "import cv2\n",
    "import matplotlib.pyplot as plt\n",
    "import numpy as np\n",
    "\n",
    "img = cv2.imread(\"images/tsukuba.png\", cv2.IMREAD_GRAYSCALE)\n",
    "\n",
    "img2 = cv2.equalizeHist(img)\n",
    "clahe = cv2.createCLAHE(clipLimit=2.0, tileGridSize=(8,8))\n",
    "img3 = clahe.apply(img)\n",
    "\n",
    "cv2.imshow('Equalization vs. CLAHE', np.c_[img2, img3])\n",
    "cv2.waitKey()\n",
    "cv2.destroyAllWindows()"
   ]
  },
  {
   "cell_type": "code",
   "execution_count": 27,
   "id": "a0f77e01",
   "metadata": {},
   "outputs": [
    {
     "data": {
      "image/png": "[encoded data removed]",
      "text/plain": [
       "<Figure size 864x252 with 4 Axes>"
      ]
     },
     "metadata": {
      "needs_background": "light"
     },
     "output_type": "display_data"
    }
   ],
   "source": [
    "import cv2\n",
    "import matplotlib.pyplot as plt\n",
    "import numpy as np\n",
    "img = cv2.imread(\"images/tsukuba.png\", cv2.IMREAD_GRAYSCALE)\n",
    "\n",
    "img2 = cv2.equalizeHist(img)\n",
    "clahe = cv2.createCLAHE(clipLimit=2.0, tileGridSize=(8,8))\n",
    "img3 = clahe.apply(img)\n",
    "\n",
    "hist1 = histogram(img2)\n",
    "cumsum_hist1 = np.cumsum(hist1)\n",
    "sum_hist1 = np.sum(hist1)\n",
    "\n",
    "hist2 = histogram(img3)\n",
    "cumsum_hist2 = np.cumsum(hist2)\n",
    "sum_hist2 = np.sum(hist2)\n",
    "\n",
    "plt.figure(figsize=(12,3.5))\n",
    "plt.subplot(121)\n",
    "plt.bar(x=range(256), height=histogram(img), width=1)\n",
    "ax = plt.twinx()\n",
    "ax.plot(range(256), cumsum_hist1/sum_hist1, 'r')\n",
    "plt.title(\"Equalization\")\n",
    "\n",
    "plt.subplot(122)\n",
    "plt.bar(x=range(256), height=histogram(img2), width=1)\n",
    "ax = plt.twinx()\n",
    "ax.plot(range(256), cumsum_hist2/sum_hist2, 'r')\n",
    "plt.title(\"CLAHE\")\n",
    "plt.show()"
   ]
  },
  {
   "cell_type": "code",
   "execution_count": null,
   "id": "36ac6db1",
   "metadata": {},
   "outputs": [],
   "source": []
  }
 ],
 "metadata": {
  "kernelspec": {
   "display_name": "Python 3 (ipykernel)",
   "language": "python",
   "name": "python3"
  },
  "language_info": {
   "codemirror_mode": {
    "name": "ipython",
    "version": 3
   },
   "file_extension": ".py",
   "mimetype": "text/x-python",
   "name": "python",
   "nbconvert_exporter": "python",
   "pygments_lexer": "ipython3",
   "version": "3.9.7"
  },
  "toc": {
   "base_numbering": 1,
   "nav_menu": {},
   "number_sections": true,
   "sideBar": true,
   "skip_h1_title": false,
   "title_cell": "Table of Contents",
   "title_sidebar": "Contents",
   "toc_cell": false,
   "toc_position": {},
   "toc_section_display": true,
   "toc_window_display": false
  }
 },
 "nbformat": 4,
 "nbformat_minor": 5
}
